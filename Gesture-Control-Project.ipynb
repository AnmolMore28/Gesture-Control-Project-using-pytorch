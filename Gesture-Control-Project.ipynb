{
 "cells": [
  {
   "cell_type": "code",
   "execution_count": 32,
   "id": "cbda491e-f086-4a4e-9d64-83b6e8677611",
   "metadata": {},
   "outputs": [
    {
     "name": "stdout",
     "output_type": "stream",
     "text": [
      "Press 's' to save a gesture, 'q' to quit.\n"
     ]
    },
    {
     "name": "stdin",
     "output_type": "stream",
     "text": [
      "Enter gesture label:  volume_up\n"
     ]
    },
    {
     "name": "stdout",
     "output_type": "stream",
     "text": [
      "Saved gesture 'volume_up' at gesture_data\\volume_up\\16.npy\n"
     ]
    },
    {
     "name": "stdin",
     "output_type": "stream",
     "text": [
      "Enter gesture label:  volume_up\n"
     ]
    },
    {
     "name": "stdout",
     "output_type": "stream",
     "text": [
      "Saved gesture 'volume_up' at gesture_data\\volume_up\\17.npy\n"
     ]
    },
    {
     "name": "stdin",
     "output_type": "stream",
     "text": [
      "Enter gesture label:  volume_up\n"
     ]
    },
    {
     "name": "stdout",
     "output_type": "stream",
     "text": [
      "Saved gesture 'volume_up' at gesture_data\\volume_up\\18.npy\n"
     ]
    },
    {
     "name": "stdin",
     "output_type": "stream",
     "text": [
      "Enter gesture label:  volume_up\n"
     ]
    },
    {
     "name": "stdout",
     "output_type": "stream",
     "text": [
      "Saved gesture 'volume_up' at gesture_data\\volume_up\\19.npy\n"
     ]
    },
    {
     "name": "stdin",
     "output_type": "stream",
     "text": [
      "Enter gesture label:  volume_up\n"
     ]
    },
    {
     "name": "stdout",
     "output_type": "stream",
     "text": [
      "Saved gesture 'volume_up' at gesture_data\\volume_up\\20.npy\n"
     ]
    },
    {
     "name": "stdin",
     "output_type": "stream",
     "text": [
      "Enter gesture label:  volume_up\n"
     ]
    },
    {
     "name": "stdout",
     "output_type": "stream",
     "text": [
      "Saved gesture 'volume_up' at gesture_data\\volume_up\\21.npy\n"
     ]
    },
    {
     "name": "stdin",
     "output_type": "stream",
     "text": [
      "Enter gesture label:  volume_up\n"
     ]
    },
    {
     "name": "stdout",
     "output_type": "stream",
     "text": [
      "Saved gesture 'volume_up' at gesture_data\\volume_up\\22.npy\n"
     ]
    },
    {
     "name": "stdin",
     "output_type": "stream",
     "text": [
      "Enter gesture label:  volume_down\n"
     ]
    },
    {
     "name": "stdout",
     "output_type": "stream",
     "text": [
      "Saved gesture 'volume_down' at gesture_data\\volume_down\\13.npy\n"
     ]
    },
    {
     "name": "stdin",
     "output_type": "stream",
     "text": [
      "Enter gesture label:  volume_down\n"
     ]
    },
    {
     "name": "stdout",
     "output_type": "stream",
     "text": [
      "Saved gesture 'volume_down' at gesture_data\\volume_down\\14.npy\n"
     ]
    },
    {
     "name": "stdin",
     "output_type": "stream",
     "text": [
      "Enter gesture label:  volume_down\n"
     ]
    },
    {
     "name": "stdout",
     "output_type": "stream",
     "text": [
      "Saved gesture 'volume_down' at gesture_data\\volume_down\\15.npy\n"
     ]
    },
    {
     "name": "stdin",
     "output_type": "stream",
     "text": [
      "Enter gesture label:  volume_down\n"
     ]
    },
    {
     "name": "stdout",
     "output_type": "stream",
     "text": [
      "Saved gesture 'volume_down' at gesture_data\\volume_down\\16.npy\n"
     ]
    },
    {
     "name": "stdin",
     "output_type": "stream",
     "text": [
      "Enter gesture label:  volume_down\n"
     ]
    },
    {
     "name": "stdout",
     "output_type": "stream",
     "text": [
      "Saved gesture 'volume_down' at gesture_data\\volume_down\\17.npy\n"
     ]
    },
    {
     "name": "stdin",
     "output_type": "stream",
     "text": [
      "Enter gesture label:  volume_down\n"
     ]
    },
    {
     "name": "stdout",
     "output_type": "stream",
     "text": [
      "Saved gesture 'volume_down' at gesture_data\\volume_down\\18.npy\n"
     ]
    },
    {
     "name": "stdin",
     "output_type": "stream",
     "text": [
      "Enter gesture label:  volume_down\n"
     ]
    },
    {
     "name": "stdout",
     "output_type": "stream",
     "text": [
      "Saved gesture 'volume_down' at gesture_data\\volume_down\\19.npy\n"
     ]
    },
    {
     "name": "stdin",
     "output_type": "stream",
     "text": [
      "Enter gesture label:  volume_down\n"
     ]
    },
    {
     "name": "stdout",
     "output_type": "stream",
     "text": [
      "Saved gesture 'volume_down' at gesture_data\\volume_down\\20.npy\n"
     ]
    }
   ],
   "source": [
    "import os\n",
    "import cv2\n",
    "import numpy as np\n",
    "import mediapipe as mp\n",
    "\n",
    "# Initialize MediaPipe Hands\n",
    "mp_hands = mp.solutions.hands\n",
    "hands = mp_hands.Hands(min_detection_confidence=0.7, min_tracking_confidence=0.7)\n",
    "mp_draw = mp.solutions.drawing_utils\n",
    "\n",
    "# Create data storage directory\n",
    "DATA_DIR = \"gesture_data\"\n",
    "if not os.path.exists(DATA_DIR):\n",
    "    os.makedirs(DATA_DIR)\n",
    "\n",
    "# Start webcam\n",
    "cap = cv2.VideoCapture(0)\n",
    "print(\"Press 's' to save a gesture, 'q' to quit.\")\n",
    "\n",
    "while True:\n",
    "    ret, frame = cap.read()\n",
    "    if not ret:\n",
    "        break\n",
    "    \n",
    "    # Flip the frame horizontally for a mirror effect\n",
    "    frame = cv2.flip(frame, 1)\n",
    "    rgb_frame = cv2.cvtColor(frame, cv2.COLOR_BGR2RGB)\n",
    "    results = hands.process(rgb_frame)\n",
    "    \n",
    "    # Draw landmarks if detected\n",
    "    if results.multi_hand_landmarks:\n",
    "        for hand_landmarks in results.multi_hand_landmarks:\n",
    "            mp_draw.draw_landmarks(frame, hand_landmarks, mp_hands.HAND_CONNECTIONS)\n",
    "            \n",
    "            # Extract landmarks as a flat list\n",
    "            landmarks = []\n",
    "            for lm in hand_landmarks.landmark:\n",
    "                landmarks.extend([lm.x, lm.y, lm.z])\n",
    "            \n",
    "            # Save landmarks when 's' is pressed\n",
    "            key = cv2.waitKey(1) & 0xFF\n",
    "            if key == ord('s'):\n",
    "                label = input(\"Enter gesture label: \")  # Prompt for gesture label\n",
    "                gesture_dir = os.path.join(DATA_DIR, label)\n",
    "                \n",
    "                # Create a directory for the label if it doesn't exist\n",
    "                if not os.path.exists(gesture_dir):\n",
    "                    os.makedirs(gesture_dir)\n",
    "                \n",
    "                # Save the landmarks as a numpy file\n",
    "                file_path = os.path.join(gesture_dir, f\"{len(os.listdir(gesture_dir))}.npy\")\n",
    "                np.save(file_path, np.array(landmarks))\n",
    "                print(f\"Saved gesture '{label}' at {file_path}\")\n",
    "    \n",
    "    # Display the webcam feed\n",
    "    cv2.imshow(\"Hand Gesture Capture\", frame)\n",
    "    \n",
    "    # Quit when 'q' is pressed\n",
    "    if cv2.waitKey(1) & 0xFF == ord('q'):\n",
    "        break\n",
    "\n",
    "cap.release()\n",
    "cv2.destroyAllWindows()\n"
   ]
  },
  {
   "cell_type": "code",
   "execution_count": 33,
   "id": "6fd095a4-1691-46f1-9ce9-6a0fece95e70",
   "metadata": {},
   "outputs": [
    {
     "name": "stdout",
     "output_type": "stream",
     "text": [
      "Epoch 1/20, Loss: 1.1024\n",
      "Epoch 2/20, Loss: 1.0767\n",
      "Epoch 3/20, Loss: 1.0152\n",
      "Epoch 4/20, Loss: 1.0056\n",
      "Epoch 5/20, Loss: 0.9848\n",
      "Epoch 6/20, Loss: 0.9625\n",
      "Epoch 7/20, Loss: 0.9285\n",
      "Epoch 8/20, Loss: 0.9126\n",
      "Epoch 9/20, Loss: 0.8792\n",
      "Epoch 10/20, Loss: 0.7348\n",
      "Epoch 11/20, Loss: 0.7312\n",
      "Epoch 12/20, Loss: 0.7482\n",
      "Epoch 13/20, Loss: 0.9606\n",
      "Epoch 14/20, Loss: 0.9197\n",
      "Epoch 15/20, Loss: 0.6987\n",
      "Epoch 16/20, Loss: 0.7151\n",
      "Epoch 17/20, Loss: 1.1034\n",
      "Epoch 18/20, Loss: 0.9399\n",
      "Epoch 19/20, Loss: 0.6480\n",
      "Epoch 20/20, Loss: 0.6707\n"
     ]
    }
   ],
   "source": [
    "import torch\n",
    "import torch.nn as nn\n",
    "import torch.optim as optim\n",
    "from torch.utils.data import Dataset, DataLoader\n",
    "\n",
    "\n",
    "class GestureDataset(Dataset):\n",
    "    def __init__(self, data_dir):\n",
    "        self.data = []\n",
    "        self.labels = []\n",
    "        self.classes = sorted(os.listdir(data_dir))\n",
    "        self.class_to_idx = {cls: idx for idx, cls in enumerate(self.classes)}\n",
    "\n",
    "        for label in self.classes:\n",
    "            label_dir = os.path.join(data_dir, label)\n",
    "            for file in os.listdir(label_dir):\n",
    "                self.data.append(np.load(os.path.join(label_dir, file)))\n",
    "                self.labels.append(self.class_to_idx[label])\n",
    "        \n",
    "        self.data = np.array(self.data)\n",
    "        self.labels = np.array(self.labels)\n",
    "\n",
    "    def __len__(self):\n",
    "        return len(self.data)\n",
    "\n",
    "    def __getitem__(self, idx):\n",
    "        return torch.tensor(self.data[idx], dtype=torch.float32), torch.tensor(self.labels[idx], dtype=torch.long)\n",
    "\n",
    "class GestureModel(nn.Module):\n",
    "    def __init__(self, input_size, num_classes):\n",
    "        super(GestureModel, self).__init__()\n",
    "        self.fc = nn.Sequential(\n",
    "            nn.Linear(input_size, 128),\n",
    "            nn.ReLU(),\n",
    "            nn.Dropout(0.2),\n",
    "            nn.Linear(128, 64),\n",
    "            nn.ReLU(),\n",
    "            nn.Linear(64, num_classes)\n",
    "        )\n",
    "\n",
    "    def forward(self, x):\n",
    "        return self.fc(x)\n",
    "\n",
    "# Dataset and DataLoader\n",
    "data_dir = \"gesture_data\"\n",
    "dataset = GestureDataset(data_dir)\n",
    "dataloader = DataLoader(dataset, batch_size=16, shuffle=True)\n",
    "\n",
    "# Model, Loss, Optimizer\n",
    "model = GestureModel(input_size=DATA_POINTS, num_classes=len(dataset.classes)).cuda()\n",
    "criterion = nn.CrossEntropyLoss()\n",
    "optimizer = optim.Adam(model.parameters(), lr=0.001)\n",
    "\n",
    "# Training Loop\n",
    "for epoch in range(20):\n",
    "    for inputs, labels in dataloader:\n",
    "        inputs, labels = inputs.cuda(), labels.cuda()\n",
    "        outputs = model(inputs)\n",
    "        loss = criterion(outputs, labels)\n",
    "        \n",
    "        optimizer.zero_grad()\n",
    "        loss.backward()\n",
    "        optimizer.step()\n",
    "    \n",
    "    print(f\"Epoch {epoch+1}/20, Loss: {loss.item():.4f}\")\n"
   ]
  },
  {
   "cell_type": "code",
   "execution_count": 38,
   "id": "cc6baad8-083c-451e-bd51-ab40891e95b1",
   "metadata": {},
   "outputs": [],
   "source": [
    "from pycaw.pycaw import AudioUtilities, IAudioEndpointVolume\n",
    "from comtypes import CLSCTX_ALL\n",
    "import torch.nn.functional as F\n",
    "\n",
    "# Pycaw setup\n",
    "devices = AudioUtilities.GetSpeakers()\n",
    "interface = devices.Activate(IAudioEndpointVolume._iid_, CLSCTX_ALL, None)\n",
    "volume = interface.QueryInterface(IAudioEndpointVolume)\n",
    "\n",
    "# Real-time prediction\n",
    "cap = cv2.VideoCapture(0)\n",
    "model.eval()\n",
    "\n",
    "while cap.isOpened():\n",
    "    ret, frame = cap.read()\n",
    "    if not ret:\n",
    "        break\n",
    "    \n",
    "    frame = cv2.flip(frame, 1)\n",
    "    rgb_frame = cv2.cvtColor(frame, cv2.COLOR_BGR2RGB)\n",
    "    results = hands.process(rgb_frame)\n",
    "\n",
    "    if results.multi_hand_landmarks:\n",
    "        for hand_landmarks in results.multi_hand_landmarks:\n",
    "            landmarks = []\n",
    "            for lm in hand_landmarks.landmark:\n",
    "                landmarks.extend([lm.x, lm.y, lm.z])\n",
    "\n",
    "            input_tensor = torch.tensor(landmarks, dtype=torch.float32).unsqueeze(0).cuda()\n",
    "            output = model(input_tensor)\n",
    "            prediction = torch.argmax(F.softmax(output, dim=1)).item()\n",
    "            \n",
    "            if dataset.classes[prediction] == \"volume_up\":\n",
    "                volume.SetMasterVolumeLevelScalar(min(1.0, volume.GetMasterVolumeLevelScalar() + 0.1), None)\n",
    "            elif dataset.classes[prediction] == \"volume_down\":\n",
    "                volume.SetMasterVolumeLevelScalar(max(0.0, volume.GetMasterVolumeLevelScalar() - 0.1), None)\n",
    "\n",
    "    cv2.imshow(\"Gesture Control\", frame)\n",
    "    if cv2.waitKey(1) & 0xFF == ord('q'):\n",
    "        break\n",
    "\n",
    "cap.release()\n",
    "cv2.destroyAllWindows()\n"
   ]
  }
 ],
 "metadata": {
  "kernelspec": {
   "display_name": "Python (myenv)",
   "language": "python",
   "name": "myenv"
  },
  "language_info": {
   "codemirror_mode": {
    "name": "ipython",
    "version": 3
   },
   "file_extension": ".py",
   "mimetype": "text/x-python",
   "name": "python",
   "nbconvert_exporter": "python",
   "pygments_lexer": "ipython3",
   "version": "3.9.20"
  }
 },
 "nbformat": 4,
 "nbformat_minor": 5
}
